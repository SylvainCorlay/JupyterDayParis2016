{
 "cells": [
  {
   "cell_type": "markdown",
   "metadata": {},
   "source": [
    "# Interactive Visualization in Jupyter with Interactive Widgets\n",
    "\n",
    "#### Sep 28th, Strata NYC"
   ]
  },
  {
   "cell_type": "markdown",
   "metadata": {},
   "source": [
    "## A little bit about myself\n",
    "\n",
    "Applied Mathematician\n",
    " - Quant at Bloomberg, Adjunct faculty at Columbia and NYU\n",
    " - Probability Theory, Continuous-time Stochastic Analysis\n",
    " - Mathematical finance, Computational economics\n",
    "\n",
    "Open-Source Developer\n",
    " - Core contributor and steering committee member of the Jupyter Project\n",
    " - Core contributor to spyder, bqplot, pythreejs, ipyleaflet\n",
    " - Python scientific stack, JS front-end development and data visualization\n",
    " - High performance scientific computing in C++\n",
    "\n",
    "Contact\n",
    "\n",
    " - https://twitter.com/SylvainCorlay\n",
    " - https://github.com/SylvainCorlay"
   ]
  },
  {
   "cell_type": "markdown",
   "metadata": {},
   "source": [
    "### *The Purpose of Computing is Insight, not Numbers* -- Richard Hamming"
   ]
  }
 ],
 "metadata": {
  "kernelspec": {
   "display_name": "Python 3",
   "language": "python",
   "name": "python3"
  },
  "language_info": {
   "codemirror_mode": {
    "name": "ipython",
    "version": 3
   },
   "file_extension": ".py",
   "mimetype": "text/x-python",
   "name": "python",
   "nbconvert_exporter": "python",
   "pygments_lexer": "ipython3",
   "version": "3.5.2"
  },
  "widgets": {
   "state": {},
   "version": "1.1.2"
  }
 },
 "nbformat": 4,
 "nbformat_minor": 1
}
