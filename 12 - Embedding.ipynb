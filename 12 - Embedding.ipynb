{
 "cells": [
  {
   "cell_type": "markdown",
   "metadata": {},
   "source": [
    "# A new feature in ipywidgets 5.x"
   ]
  },
  {
   "cell_type": "code",
   "execution_count": 1,
   "metadata": {
    "collapsed": false,
    "scrolled": true
   },
   "outputs": [
    {
     "data": {
      "application/vnd.jupyter.widget": "db6d28d10aa34235a7d7f29d77eea563"
     },
     "metadata": {},
     "output_type": "display_data"
    }
   ],
   "source": [
    "from ipywidgets import VBox, jsdlink, IntSlider, HTML\n",
    "\n",
    "s1 = IntSlider(description='Maximum', min=100, max=200, value=100)\n",
    "s2 = IntSlider(description='Value', value=40)\n",
    "jsdlink((s1, 'value'), (s2, 'max'))\n",
    "VBox([s1, s2])"
   ]
  },
  {
   "cell_type": "code",
   "execution_count": 2,
   "metadata": {
    "collapsed": false
   },
   "outputs": [
    {
     "data": {
      "application/vnd.jupyter.widget": "a440982895874c009414cfe49606cda1"
     },
     "metadata": {},
     "output_type": "display_data"
    }
   ],
   "source": [
    "import numpy as np\n",
    "from bqplot import pyplot as plt\n",
    "\n",
    "n = 100\n",
    "plt.scatter(np.random.randn(n), np.random.randn(n))\n",
    "plt.show()"
   ]
  },
  {
   "cell_type": "markdown",
   "metadata": {},
   "source": [
    "# HTML Code\n",
    "\n",
    "```HTML\n",
    "<html>\n",
    "    <head>\n",
    "    <meta http-equiv=\"content-type\" content=\"text/html; charset=UTF8\">\n",
    "    \n",
    "    <style>\n",
    "    body {\n",
    "        margin-left: auto;\n",
    "        margin-right: auto;\n",
    "        max-width: 900px;\n",
    "        background-color: #eee;\n",
    "        font-family: sans-serif;\n",
    "    }\n",
    "\n",
    "    .jupyter-js-widgets-example {\n",
    "        padding: 10px;\n",
    "        margin-top: 10px;\n",
    "        margin-bottom: 10px;\n",
    "        background-color: white;\n",
    "        overflow: auto;\n",
    "        box-shadow: 0px 0px 12px 1px rgba(87, 87, 87, 0.2);\n",
    "    }\n",
    "\n",
    "    .widgetarea, .inputarea, .snipetarea {\n",
    "        margin: 5px;\n",
    "    }\n",
    "\n",
    "    .CodeMirror {\n",
    "        border: 1px solid #ccc;\n",
    "        height: auto;\n",
    "        background-color: #f7f7f7;\n",
    "        border-radius: 2px;\n",
    "    }\n",
    "\n",
    "    .CodeMirror-Scroll {\n",
    "        height: auto;\n",
    "    }\n",
    "    </style>\n",
    "    </head>\n",
    "    <body>\n",
    "        <h1>Embedding Jupyter Interactive Widgets</h1>\n",
    "        <div class=\"jupyter-js-widgets-example\">\n",
    "        </div>\n",
    "    </body>\n",
    "</html>\n",
    "```\n",
    "\n",
    "# On the Jupyter Website\n",
    "\n",
    "https://jupyter.org/widgets.html\n",
    "\n",
    "# On the VAEX website\n",
    "\n",
    "http://vaex.astro.rug.nl/"
   ]
  }
 ],
 "metadata": {
  "kernelspec": {
   "display_name": "Python 3",
   "language": "python",
   "name": "python3"
  },
  "language_info": {
   "codemirror_mode": {
    "name": "ipython",
    "version": 3
   },
   "file_extension": ".py",
   "mimetype": "text/x-python",
   "name": "python",
   "nbconvert_exporter": "python",
   "pygments_lexer": "ipython3",
   "version": "3.5.2"
  },
  "widgets": {
   "state": {
    "046301a3e03d4a33b5af600ceeb725e9": {
     "views": []
    },
    "09598c3634764eada0933592632b8ee9": {
     "views": []
    },
    "10330e60e0574e3688dd9798cc8471c3": {
     "views": []
    },
    "1688796d6de641d9ac2d8bf3aee02797": {
     "views": []
    },
    "16cb68273d9b426a9026b2ec06277061": {
     "views": []
    },
    "3c0fd389e91845fca68967698001c607": {
     "views": []
    },
    "4496000f1287433ebdafac48a4d97a77": {
     "views": []
    },
    "4cc765bf65e441dcae44f815538c5ba6": {
     "views": []
    },
    "4d84c39ea30a467fb744c6d78d1af981": {
     "views": []
    },
    "51c4e522a250441899819c3d529e9649": {
     "views": []
    },
    "54e00d1292f14f0d93bfccae8847c247": {
     "views": []
    },
    "5e616ed2fccd4704872d67960233c9b7": {
     "views": []
    },
    "6cb7010335824030a3cadcbf1ab849a7": {
     "views": []
    },
    "76aefa1ac63145c192ea29b4dbceb577": {
     "views": [
      {
       "cell_index": 1
      }
     ]
    },
    "7f95a1875bd948f085e0bd81e56faf56": {
     "views": []
    },
    "8ee6cd2b5b2142f79d7b048df6f45261": {
     "views": []
    },
    "9cf6fac12f4a46899256eecbbbe66bfd": {
     "views": []
    },
    "a0a76a8f7ad042de9f737adc17d318bf": {
     "views": []
    },
    "a61ad0a636b34cb3b1cd9d9bfbe84729": {
     "views": []
    },
    "a66e371500c047aeb2aa9f4cb182a57b": {
     "views": []
    },
    "aa573843ff0b4637ac02f19d9f96f11f": {
     "views": []
    },
    "b5b3becfaf7d48b091427b743893d695": {
     "views": []
    },
    "cb22069f3c8f498488c02c4380bea009": {
     "views": []
    },
    "cc9d28e434664345bbe103998973bfff": {
     "views": [
      {
       "cell_index": 0
      }
     ]
    },
    "d8dc9dcd9c314d61b931f015bc1d8e1e": {
     "views": []
    },
    "df7a2428a05c49e6a9b7e815fb94e8ae": {
     "views": []
    },
    "e05be53988ea469896e0bec4921edfd3": {
     "views": []
    },
    "e0b8f3d43ef6478ba59d16909cc2c318": {
     "views": []
    },
    "e140953c00d04b8ca67c9a9d5982402b": {
     "views": []
    },
    "e84178acfa3c4e7ab2ca82d794ed68d8": {
     "views": []
    },
    "ead46f82917847e788f3f7b8a6b0d1f9": {
     "views": []
    },
    "feb8b3c748474cdfb4044b5173c67d0e": {
     "views": []
    }
   },
   "version": "1.1.2"
  }
 },
 "nbformat": 4,
 "nbformat_minor": 1
}
